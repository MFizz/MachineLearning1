{
 "metadata": {
  "name": ""
 },
 "nbformat": 3,
 "nbformat_minor": 0,
 "worksheets": [
  {
   "cells": [
    {
     "cell_type": "markdown",
     "metadata": {},
     "source": [
      "<h3>Exercise 4</h3>\n",
      "\n",
      "In this exercise, you will experiment with different techniques to compute principal components in the context of modeling handwritten characters (small images of $28 \\times 28$ pixels). A handwritten digit can also be seen as $28 \\times 28 = 784$-dimensional signal. Conversly, the $784$-dimensional principal components that are learned can also be visualized as $28 \\times 28$ pixel images."
     ]
    },
    {
     "cell_type": "code",
     "collapsed": false,
     "input": [
      "import scipy,scipy.io,numpy,numpy.linalg,Image,IPython.core.display,io\n",
      "import numpy as N\n",
      "import numpy.linalg as L\n",
      "\n",
      "# Load the handwritten characters dataset (only 2500 first samples and subsampled)\n",
      "#\n",
      "# input:  none\n",
      "# output: a matrix containing the data\n",
      "#\n",
      "def load():\n",
      "    X = scipy.io.loadmat('characters.mat')['X'].reshape([-1,56,56]).transpose([0,2,1])[:2500]\n",
      "    X = 0.25*(X[:,::2,::2]+X[:,1::2,::2]+X[:,::2,1::2]+X[:,1::2,1::2])\n",
      "    return X\n",
      "\n",
      "# Display the data or principal components nicely\n",
      "#\n",
      "#  input:  an array of size n*28*28\n",
      "#  output: a function that displays the data when it is called\n",
      "#\n",
      "def show(x):\n",
      "    n = len(x)\n",
      "    x = x - x.min()\n",
      "    x = x / x.max()\n",
      "    z = numpy.ones([n,30,30])\n",
      "    z[:,1:-1,1:-1] = x\n",
      "    x = z.reshape([1,n,30,30]).transpose([0,2,1,3]).reshape([30,n*30])\n",
      "    b = io.BytesIO()\n",
      "    img = Image.fromarray((x*255).astype('byte'),'L').save(b, format='png')\n",
      "    \n",
      "    return lambda: IPython.core.display.Image(data=b.getvalue(),format='png', embed=True)\n",
      "\n",
      "# Example of execution\n",
      "X = load()[:30]\n",
      "show(X)()"
     ],
     "language": "python",
     "metadata": {},
     "outputs": [
      {
       "metadata": {},
       "output_type": "pyout",
       "png": "[encoded data removed]",
       "prompt_number": 1,
       "text": [
        "<IPython.core.display.Image at 0x7ff4fbafe950>"
       ]
      }
     ],
     "prompt_number": 1
    },
    {
     "cell_type": "markdown",
     "metadata": {},
     "source": [
      "<b>(a)</b> <em>Compute</em> the principal components using the built-in method for computing eigenvalues and eigenvectors (<code>numpy.linalg.eigh</code>) and <em>visualize</em> the 30 leading principal components using the function <code>show()</code>. Note that the function <code>numpy.linalg.eigh</code> does not sort eigenvalues/eigenvectors automatically. Also, please use the following naming conventions: $S$ = scatter matrix, $E$ = matrix of eigenvectors, $\\boldsymbol{e}$ = eigenvector."
     ]
    },
    {
     "cell_type": "code",
     "collapsed": false,
     "input": [
      "X = load()\n",
      "\n",
      "# Images as column vectors are easier to handle\n",
      "X = X.reshape( 2500, 28*28 )\n",
      "\n",
      "# DEBUG: Truncate for testing, eigh for 2500k DOF is too slow\n",
      "#X = X[1:500,:]\n",
      "\n",
      "# PCA\n",
      "A = N.sum(X, 0) / X.shape[0]\n",
      "X = X - A\n",
      "\n",
      "d, V = L.eigh( N.dot(X, X.T) )\n",
      "\n",
      "# Sort eigenvectors\n",
      "i = N.argsort(d)\n",
      "V = V[:,i]\n",
      "\n",
      "# Show results\n",
      "S = X[-30:,].reshape( 30, 28, 28 )\n",
      "S.shape\n",
      "show(S)()"
     ],
     "language": "python",
     "metadata": {},
     "outputs": [
      {
       "metadata": {},
       "output_type": "pyout",
       "png": "[encoded data removed]",
       "prompt_number": 9,
       "text": [
        "<IPython.core.display.Image at 0x7ff4fb89b810>"
       ]
      }
     ],
     "prompt_number": 9
    },
    {
     "cell_type": "markdown",
     "metadata": {},
     "source": [
      "<b>(b)</b> Basically $\\phi(x)$ returns the index of the principal component that is closest to $x$.\n",
      "1) Because we only look at $x^T e_i$, $i \\in \\{ 1, \\cdots, K \\}$, noise can be treated as a linear combination of $e_i$, $i \\neq \\phi(x)$. Because each principal component is orthogonal to all other principal components, this approach should be robust because there can be no $e_i, e_j, i \\neq j$ where $e_i$ and $e_j$ are almost identical.\n",
      "2)\n",
      "\n",
      "<b>(c)</b> <em>Compute</em> the first principal components without using <code>numpy.linalg.eigh</code>, but instead, iteratively, using repeatedly a gradient descent on the objective function in Eq. 85 of Duda&Hart ($\\boldsymbol{e} \\leftarrow \\boldsymbol{e} - \\gamma \\cdot \\frac{\\partial J}{\\partial \\boldsymbol{e}}$) and a normalization step where $\\boldsymbol{e}$ is projected orthogonally onto the subspace defined by $||\\boldsymbol{e}||^2 = 1$, (i.e. by normalizing $\\boldsymbol{e}$ to have unit norm). The parameter $\\gamma$ is the learning rate and has to be choosen appropriately. <em>Display</em> the vector $\\boldsymbol{e}$ at 30 successive iterations for appropriate learning rate using the function <code>show()</code>."
     ]
    },
    {
     "cell_type": "code",
     "collapsed": false,
     "input": [
      "X = load()\n",
      "\n",
      "\n",
      "\n",
      "#show(...)()"
     ],
     "language": "python",
     "metadata": {},
     "outputs": [],
     "prompt_number": 14
    },
    {
     "cell_type": "markdown",
     "metadata": {},
     "source": [
      "<b>(d)</b> See exercise sheet\n",
      "\n",
      "<b>Submission guidelines</b>\n",
      "\n",
      "To facilitate grading, please export the notebook to PDF format. This can be done easily by installing the required packages and running\n",
      "\n",
      "<code>ipython nbconvert --to latex sheet04.ipynb && pdflatex sheet04.tex</code>"
     ]
    }
   ],
   "metadata": {}
  }
 ]
}