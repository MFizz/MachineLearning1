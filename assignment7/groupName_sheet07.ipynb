{
 "metadata": {
  "name": ""
 },
 "nbformat": 3,
 "nbformat_minor": 0,
 "worksheets": [
  {
   "cells": [
    {
     "cell_type": "markdown",
     "metadata": {},
     "source": [
      "<h1>Exercise Sheet 7: K-means Clustering (100 P)</h1>\n",
      "\n",
      "**Intro:** In this scenario we will simulate finding good locations for warehouses of a multi-national company and some scenarios which can occur. The company is expanding to Europe and surrounding countries and is looking for locations which would maximize its profits. We will attempt to find the number of warehouses and their locations by using k-means clustering. We will look at several scenarios and how they impact the proposed model.\n",
      "\n",
      "In this exercise we will using data available at: http://sedac.ciesin.columbia.edu/ . The data contains a number of (x,y) coordinates on the map, the number of inhabitants of that section and the corresponding country. "
     ]
    },
    {
     "cell_type": "code",
     "collapsed": false,
     "input": [
      "import pickle,numpy as np, numpy.linalg as ln\n",
      "import scipy\n",
      "import scipy.spatial.distance\n",
      "import os\n",
      "import sys\n",
      "import random\n",
      "import io,IPython,Image\n",
      "import matplotlib.pyplot as plt, matplotlib"
     ],
     "language": "python",
     "metadata": {},
     "outputs": [],
     "prompt_number": 77
    },
    {
     "cell_type": "markdown",
     "metadata": {},
     "source": [
      "The following helper function reads the data provided. It returns:\n",
      "\n",
      "- **xnid** : an array of integers indicating the country at each latitude/longitude on the map\n",
      "- **xpop** : an array of integers counting the population size at each latitude/longitude on the map\n",
      "- **nx**   : the number of latitudes considered\n",
      "- **ny**   : the number of longitudes considered"
     ]
    },
    {
     "cell_type": "code",
     "collapsed": false,
     "input": [
      "def getData():\n",
      "\n",
      "    def reading(filename):\n",
      "        with open(filename, 'rb') as st:\n",
      "            source = pickle.loads(st.read())\n",
      "        return source\n",
      "\n",
      "    xpop = reading('data/pop.pkl')\n",
      "    xpop = np.array([xpop[i::5,j::5] for i in range(5) for j in range(5)]).sum(axis=0)\n",
      "    nx,ny = xpop.shape\n",
      "    \n",
      "    \n",
      "    xnid = reading('data/nid.pkl')\n",
      "    xnid = xnid[2::5,2::5]\n",
      "    return xnid, xpop, nx,ny"
     ],
     "language": "python",
     "metadata": {},
     "outputs": [],
     "prompt_number": 2
    },
    {
     "cell_type": "markdown",
     "metadata": {},
     "source": [
      "<h3>Part 1: Examine the Data and Generate Various Maps (10 P)</h3>\n",
      "\n",
      "In this section we will utilize the data to show 4 different maps:\n",
      "\n",
      "- A map containing the borders between countries in our data (already provided for you)\n",
      "- A map where every country is colored differently (or at least assignes different colors to  neighbouring countries) \n",
      "- A map which shows population density in our data\n",
      "- A map that combines border indicators and population density\n",
      "\n",
      "Sample maps are given in the folder /maps. Your maps can be generated using the function imshow of the matplotlib library. The last hybrid map will be used in the rest of the exercise sheet."
     ]
    },
    {
     "cell_type": "code",
     "collapsed": false,
     "input": [
      "# 1a: Political map\n",
      "xnid,xpop,nx,ny = getData()\n",
      "plt.imshow(xnid*(1029743.9384958475)%1)\n",
      "plt.title('political map')\n",
      "plt.show()"
     ],
     "language": "python",
     "metadata": {},
     "outputs": [
      {
       "output_type": "stream",
       "stream": "stdout",
       "text": [
        "(200L, 360L)\n"
       ]
      }
     ],
     "prompt_number": 78
    },
    {
     "cell_type": "code",
     "collapsed": false,
     "input": [
      "# 1b: Map showing the borders between countries\n",
      "xnid,xpop,nx,ny = getData()\n",
      "\n",
      "def board(X):\n",
      "    x,y = X.shape\n",
      "    boarders = np.ones((x,y))\n",
      "    for i in range(x):\n",
      "        for j in range(y):\n",
      "            # vertical value changes\n",
      "            if i!=x-1 and X[i,j]!=X[i+1,j]:\n",
      "                boarders[i,j]=0\n",
      "                boarders[i+1,j]=0\n",
      "            # horizontal value changes\n",
      "            if j!=y-1 and X[i,j]!=X[i,j+1]:\n",
      "                boarders[i,j+1]=0\n",
      "                boarders[i,j+1]=0\n",
      "    return boarders\n",
      "boarders = board(xnid)\n",
      "plt.imshow(boarders)\n",
      "plt.title('boarder map')\n",
      "# don't know how to show images inside this form so I fell back to show()\n",
      "plt.show()"
     ],
     "language": "python",
     "metadata": {},
     "outputs": [],
     "prompt_number": 4
    },
    {
     "cell_type": "code",
     "collapsed": false,
     "input": [
      "# 1c: which shows population density in our data\n",
      "xnid,xpop,nx,ny = getData()\n",
      "\n",
      "# since xpop already shows the population but there are some very big outliers, \n",
      "# they mess with the scale and as a result differences are hard to spot.\n",
      "# I tried using log in order to match the example but it isn't there yet.\n",
      "# Perhaps you got an idea, but if not I figure it isn't that important, since\n",
      "# its only purpose is superimposing with other images.\n",
      "def population(X):\n",
      "    x,y = X.shape\n",
      "    pop = np.zeros((x,y))\n",
      "    for i in range(x):\n",
      "        for j in range(y):\n",
      "            if X[i,j]!=0:\n",
      "                pop[i,j]=np.log(X[i,j])\n",
      "            else:\n",
      "                pop[i,j]=-10\n",
      "    return pop\n",
      "\n",
      "pop = population(xpop)\n",
      "plt.imshow(pop)\n",
      "plt.title('population map')\n",
      "plt.colorbar()\n",
      "plt.show()"
     ],
     "language": "python",
     "metadata": {},
     "outputs": [],
     "prompt_number": 136
    },
    {
     "cell_type": "code",
     "collapsed": false,
     "input": [
      "# 1c: Map superposing population density and borders\n",
      "xnid,xpop,nx,ny = getData()\n",
      "\n",
      "# Since the boarders in b are 0 and the rest 1, multiplication\n",
      "# will get a result as in the example\n",
      "def getSupMap():\n",
      "    b = board(xnid)\n",
      "    return population(xpop*b)\n",
      "\n",
      "p = getSupMap()\n",
      "plt.imshow(p)\n",
      "plt.title('superimposed map')\n",
      "plt.colorbar()\n",
      "plt.show()"
     ],
     "language": "python",
     "metadata": {},
     "outputs": [],
     "prompt_number": 138
    },
    {
     "cell_type": "markdown",
     "metadata": {},
     "source": [
      "<h3>Part 2: Implementing one step of weighted k-means (20 P)</h3>\n",
      "\n",
      "Your task is to implement the k-means algorithm using weighted data. Here, instead of considering each inhabitant as a separate point, we consider each geographic coordinate as an inhabitant with a different weight corresponding to the number of people living at this coordinate.\n",
      "\n",
      "- **initial centroids**: the x and y coordinates of initial centroids\n",
      "- **points** : x and y coordinates of points with number of inhabitants > 0\n",
      "- **weights** : Containing the number of people living in every section\n",
      "\n",
      "The function should output the following:\n",
      "\n",
      "- **final centroids** : the final centroids after many iterations\n",
      "- **cost function** : the value of the cost function $J(c) = \\sum_{x_i \\in \\text{points}} w_i ||x_i-c(x_i)||_2^2$ where $c(x_i)$ denotes the centroid associated to $x_i$ and $w_i$ is the weight of each data point $x_i$."
     ]
    },
    {
     "cell_type": "markdown",
     "metadata": {},
     "source": [
      "*Do not restrict your solution to only two dimensions. Avoid loops when possible.*"
     ]
    },
    {
     "cell_type": "code",
     "collapsed": false,
     "input": [
      "def wkmeans(centroids, points, weights):\n",
      "    \n",
      "    # Computes for every point the costs with the given centroid \n",
      "    def cost(cent,w):\n",
      "        c = np.apply_along_axis(np.linalg.norm, 1, points-cent)\n",
      "        c = c**2\n",
      "        c = c*w\n",
      "        return c\n",
      "    \n",
      "    # Compute the costs for ervery centroid for every point\n",
      "    costs = np.array([cost(c,weights[c[0]*c[1]]) for c in centroids])\n",
      "    cNew = np.zeros(centroids.shape)\n",
      "    wNew = np.zeros(centroids.shape[0])\n",
      "    J = 0\n",
      "    for i in range(points.shape[0]):\n",
      "        if weights[i]!=0:\n",
      "            minCosts=sys.float_info.max\n",
      "            posi = 0\n",
      "            posj = 0\n",
      "            # choose for every point to which centroid it belongs, by choosing the lowest costs\n",
      "            for j in range(centroids.shape[0]):\n",
      "                if costs[j,i]<minCosts:\n",
      "                    minCosts=costs[j,i]\n",
      "                    posj = j\n",
      "                    posi = i\n",
      "            # compute the new centroids\n",
      "            cNew[posj] += points[posi]*weights[posi]\n",
      "            wNew[posj] += weights[posi]\n",
      "            # compute the costfunction J\n",
      "            J += costs[posj,posi]\n",
      "    \n",
      "    # normalize the new centroids\n",
      "    for i in range(cNew.shape[0]):\n",
      "        if wNew[i]!=0:\n",
      "            cNew[i]=cNew[i]/wNew[i]\n",
      "    \n",
      "    return cNew,J\n"
     ],
     "language": "python",
     "metadata": {},
     "outputs": [],
     "prompt_number": 144
    },
    {
     "cell_type": "code",
     "collapsed": false,
     "input": [
      "# Just a test cell for me\n",
      "points = np.array([[0.,0.],[0.,1.],[1.,0.],[1.,1.]])\n",
      "def cost(cent,w):\n",
      "    c= np.apply_along_axis(np.linalg.norm, 1, points-cent)\n",
      "    c= c**2\n",
      "    print c\n",
      "    c=c*w\n",
      "    print c\n",
      "    c=np.sum(c)\n",
      "    print c\n",
      "    return c\n",
      "\n",
      "\n",
      "b=np.array([[1.,1.],[1.,0.]])\n",
      "d=np.array([1.,2.,3.,4.])\n",
      "c,j=wkmeans(b, points, d)\n",
      "print points\n"
     ],
     "language": "python",
     "metadata": {},
     "outputs": [
      {
       "output_type": "stream",
       "stream": "stdout",
       "text": [
        "ssssss1\n",
        "ssssss1\n",
        "[[ 0.  0.]\n",
        " [ 0.  1.]\n",
        " [ 1.  0.]\n",
        " [ 1.  1.]]\n"
       ]
      }
     ],
     "prompt_number": 128
    },
    {
     "cell_type": "markdown",
     "metadata": {},
     "source": [
      "<h3>Part 3: Building an initialization heuristic (20 P)</h3>\n",
      "\n",
      "Here, you are requested to implement an heuristic for choosing initial centroids. The idea is the following: We assign a random score $s(i,j)$ to each geographical coordinate $(i,j)$. The score is computed as $s(i,j) = w(i,j) - N$ where $w(i,j)$ is the number of inhabitants at a certain location and $N$ is a random variable drawn from an exponential distribution of scale parameter $\\lambda$ to be determined. Then, the $k$ locations with largest score are assigned a centroid.\n",
      "\n",
      "(a) Implement the initialization heuristic\n",
      "\n",
      "(b) Generate a map superposing the centroids to the population density map\n",
      "\n",
      "(c) Test different parameters $\\lambda$ and $k$"
     ]
    },
    {
     "cell_type": "code",
     "collapsed": false,
     "input": [
      "xnid,xpop,nx,ny = getData()\n",
      "\n",
      "# return k initial centroids\n",
      "def initialize(pop,k,lam):\n",
      "    x=pop\n",
      "    # substract a random value form every point\n",
      "    for i in range(pop.shape[0]):\n",
      "        for j in range(pop.shape[1]):\n",
      "            x[i,j] = pop[i,j]-expo(lam)\n",
      "    # take the k points with the highest score\n",
      "    d = x.ravel().argsort()[-k:][::-1]\n",
      "    centroids=[]\n",
      "    for i in range(k):\n",
      "        centroids.append([d[i]/x.shape[1],d[i]%x.shape[1]])\n",
      "    return np.array(centroids)\n",
      "\n",
      "# draw from exponential distribution\n",
      "def expo(l):\n",
      "    return np.random.exponential(1/l)\n",
      "\n",
      "# draw the centroids on a empty map and control its diameter with n\n",
      "def super(x,c,n):\n",
      "    can = np.zeros((x.shape[0],x.shape[1]))\n",
      "    # draw a additional diameter\n",
      "    for i in range(len(c)):\n",
      "        can[c[i][0],c[i][1]]=1\n",
      "        for j in range(n):\n",
      "            for k in range(n):\n",
      "                can[c[i][0]+j,c[i][1]+k]=1\n",
      "                can[c[i][0]-j,c[i][1]-k]=1\n",
      "                can[c[i][0]-j,c[i][1]+k]=1\n",
      "                can[c[i][0]+j,c[i][1]-k]=1\n",
      "    return can\n",
      "\n",
      "pop=getSupMap()\n",
      "c = initialize(xpop,10,1)\n",
      "s=super(pop,c,2)\n",
      "s = np.ma.masked_where(s==0, s)\n",
      "plt.imshow(pop)\n",
      "plt.imshow(s, cmap='gray',alpha=0.99)\n",
      "plt.show()\n"
     ],
     "language": "python",
     "metadata": {},
     "outputs": [],
     "prompt_number": 142
    },
    {
     "cell_type": "markdown",
     "metadata": {},
     "source": [
      "<h3>Part 4: Running weighted k-means (20 P)</h3>\n",
      "\n",
      "The company wishes to find good locations of warehouses. We assume that the same percentage of inhabitants of every country uses their services, so the number of users can be approximated with the number of inhabitants. We assume that the cost of transporting their products to users is proportional to the squared euclidian distance to the closest warehouse.\n",
      "\n",
      "(a) Run the k-means algorithm with the number of clusters $k = 100$. Save your results, as they will be used later. Run at least $20$ iterations of k-means.\n",
      "\n",
      "(b) Plot the path of the centroids throughout the training procedure (for example, the initial centroids as a black dot, the final centroids as a white dot and the path that they followed as a black line). The path should be plotted in superposition to the hybrid map built in Part 1."
     ]
    },
    {
     "cell_type": "code",
     "collapsed": false,
     "input": [
      "xnid, xpop, nx,ny = getData()\n",
      "\n",
      "initC=initialize(xpop,10,1)\n",
      "points = []\n",
      "for i in range(xpop.shape[0]):\n",
      "    for j in range(xpop.shape[1]):\n",
      "        points.append([i,j])\n",
      "points=np.array(points)\n",
      "weights=xpop.reshape(xpop.shape[0]*xpop.shape[1])\n",
      "#print initC/2\n",
      "c,j=wkmeans(initC, points, weights)\n",
      "#print c\n",
      "\n",
      "\n",
      "# start k-means\n",
      "\n",
      "# Visualize results"
     ],
     "language": "python",
     "metadata": {},
     "outputs": [],
     "prompt_number": 147
    },
    {
     "cell_type": "markdown",
     "metadata": {},
     "source": [
      "<h3>Part 5: Focusing on the German market (10 P)</h3>\n",
      "\n",
      "We have determined that our initial assumption that the number of customers in a country is proportional to its number of inhabitants is incorrect. Analysis has shown that customers in Germany (xnid=111), Austria(xnid=104) and Switzerland (xnid=109) are three times more likely to buy the product than customers in other countries.\n",
      "\n",
      "(a) Explain how the model should be modified to take into account this new constraint\n",
      "\n",
      "(b) Run k-means on this new problem with $k = 50$ and show the same type of map as in Part 5 for this new setting.\n",
      "\n",
      "(c) Describe the qualitative change in the allocation of factories accross Europe."
     ]
    },
    {
     "cell_type": "markdown",
     "metadata": {},
     "source": [
      "(a) Explain how the model should be modified to take into account this new constraint\n",
      "In these regions the weights respectively the population has tobe multiplicated by the factor, the conumsersaremore likely to buy the product."
     ]
    },
    {
     "cell_type": "code",
     "collapsed": false,
     "input": [
      "xnid, xpop, nx,ny = getData()\n"
     ],
     "language": "python",
     "metadata": {},
     "outputs": [],
     "prompt_number": 9
    },
    {
     "cell_type": "markdown",
     "metadata": {},
     "source": [
      "<h3>Part 6: Shipping restrictions (10pt)</h3>\n",
      "\n",
      "Due to new shipping regulations in the EU, transporting the product across borders is now taxed heavily.\n",
      "\n",
      "(a) Explain how the new problem can be understood as a k-means problem in a higher-dimensional space (i.e. extending the original longitude/latitude two-dimensional space to more dimensions).\n",
      "\n",
      "(b) Implement the higher-dimensional k-means problem and produce a map similar to the one produced in Part 5.\n",
      "\n",
      "(c) Explain what are the qualitative difference between the distribution of factories as a function of the level of cross-border taxation."
     ]
    },
    {
     "cell_type": "code",
     "collapsed": false,
     "input": [],
     "language": "python",
     "metadata": {},
     "outputs": []
    },
    {
     "cell_type": "markdown",
     "metadata": {},
     "source": [
      "<h3>Part 7: Discussion (10pt)</h3>\n",
      "\n",
      "Discuss in approximately three paragraphs what are the advantages and limitation of the k-means model to the problem of optimal resource allocation. The discussion could cover points such as validity of the Euclidean distance as a measure of shipping cost, temporal evolution of consumer demand, supply side constraints. Then, discuss how the basic model could be extended to these more realistic scenarios."
     ]
    },
    {
     "cell_type": "markdown",
     "metadata": {},
     "source": [
      "<h3>Submission guidelines</h3>\n",
      "\n",
      "To facilitate grading, please export the notebook to PDF format. This can be done easily by installing the required packages and running\n",
      "\n",
      "**Do not upload the data**\n",
      "\n",
      "<code>ipython nbconvert --to latex sheet07.ipynb && pdflatex sheet07.tex</code>"
     ]
    }
   ],
   "metadata": {}
  }
 ]
}